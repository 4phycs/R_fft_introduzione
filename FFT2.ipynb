{
 "cells": [
  {
   "cell_type": "markdown",
   "metadata": {},
   "source": [
    "# Fourier"
   ]
  },
  {
   "cell_type": "code",
   "execution_count": 1,
   "metadata": {
    "collapsed": false
   },
   "outputs": [
    {
     "name": "stderr",
     "output_type": "stream",
     "text": [
      "Loading required package: ggplot2\n"
     ]
    }
   ],
   "source": [
    "require(ggplot2)"
   ]
  },
  {
   "cell_type": "markdown",
   "metadata": {},
   "source": [
    "# Spiegazione delle unita' dell'analisi di Fourier\n",
    "in questo esempio prendo le funzioni piu' \"semplici\" per studiare l'analisi di fourier, ergo i seni.\n",
    "Considera che questa e' una analisi fatta su un intervallo di lunghezza L (quidi va da 0 a L).\n",
    "\n",
    "La funzione fft() calcola le componenti della trasformata di Fourier, che sono valori complessi.\n",
    "A noi di solito interessa l'ampiezza di questi valori, e quindi ne calcolioamo il modulo tramite la funzione:\n",
    "* coeffFourier <- fft(mioArray)\n",
    "* Mod()    occhio alla M maiuscola\n",
    "\n",
    "La funzione fft() prende dei punti come ingresso.\n",
    "La lunghezza totale della dell'intervallo su cui viene definita la funzione e' il NUMERO totale di punti\n",
    "(per esempio se gli passo un array di 12000 punti la lunghezza totale e' 12000). I punti sono pensati equispaziati.\n",
    "\n",
    "Ricorda che k e' il numero di cicli corrispondente al particolare elemento del sonc definito dalle onde piane.\n",
    "\n",
    "Ognuna di queste onde piane e' pensata fare un determinato numero di cicli all'interno dell'intervallo, e quindi k definisce esattamente questo numero di cicli. Una funzione che fa un solo ciclo (k=1) ha una lunghezza d'onda N (numero di punti). Una funzione che fa 3 cicli ha una lunghezza d'onda N/3.\n",
    "\n",
    "Se conosco la lunghezza d'onda $\\lambda_k$ dell'elemento del sonc e voglio trovare a quale k corrisponde basta che faccio la divisione tra N (lunghezza totale) / $\\lambda_k$ (lunghezza d'onda dello stato cercato).\n",
    "Questo ci fornisce il numero di cicli che fa la funzione, ovvero k.\n",
    "Nel dettaglio se $\\lambda_k= 24$ e $N= 7200$, k=7200/24=300.\n",
    "\n",
    "Se ho un array contentente  le ampiezze, devo andare a cercare quindi il 300mo elemento.\n",
    "Se voglio che questo sia alla posizione 1 deveo dividere le posizioni proprio per 300!\n",
    "\n",
    "\n",
    "\n",
    "Quindi se voglio sapere a che k corrisponde un'onda di lunghezza 50 devo fare\n",
    "12000/50 (numero totale di cicli nell'intervallo considerato)\n",
    "\n",
    "In generale quindi la lunghezza della funzione e' il numero di punti N,\n",
    "e il la lunghezza d'onda cercata ha n punti, allora il momento\n",
    "associato a quella lunghezza d'onda e':\n",
    "\n",
    "$k=\\frac{N}{n}$"
   ]
  },
  {
   "cell_type": "code",
   "execution_count": null,
   "metadata": {
    "collapsed": true
   },
   "outputs": [],
   "source": []
  },
  {
   "cell_type": "markdown",
   "metadata": {},
   "source": [
    "In questo caso ho costruito delle funzioni in questo modo.\n",
    "Ho una lunghezza L e la ho divisa in N punti. Ho una funzione che viene definita quindi\n",
    "$f:[0,L]->R$\n",
    "\n",
    "* k = 1 corrisponde a seni che compiono cicli di lunghezza L\n",
    "* k = 2 corrisponde a seni che compiono cicli di lunghezza L/2\n",
    "* k = 3 corrisponde a seni che compiono cicli di lunghezza L/3\n",
    "* ....\n",
    "* k = N/2                                        lunghezza N/(L/2)\n",
    "\n",
    "Se costruisco una funzione del tipo $\\sin(\\frac{2\\pi}{L}x)$, questa funzione fa un ciclo lungo L,\n",
    "e quindi corrisponde a k=1.\n",
    "\n",
    "La funzione $\\sin(9\\frac{2\\pi}{L}x)$  fa cicli lunghi L/9 e quindi l'ampiezza che la descrive e' data da k=9\n"
   ]
  },
  {
   "cell_type": "code",
   "execution_count": 3,
   "metadata": {
    "collapsed": false
   },
   "outputs": [
    {
     "data": {
      "image/png": "[encoded data removed]",
      "text/plain": [
       "plot without title"
      ]
     },
     "metadata": {},
     "output_type": "display_data"
    }
   ],
   "source": [
    "#x[1:10]\n",
    "###\n",
    "#  nota che i punti della funzione sono ogni n * 2pi/L x, con x = L/1000, 2L/1000, 3L/1000\n",
    "#  x= L/2000, 2L/2000,...,NL/2000  (dove N e' il numero di punti).\n",
    "#  ########   2 pi/L    e'  1 ciclo #########\n",
    "#  i seni che ho preso fanno 1,2,3, ... k, giri entro l'intervallo L, \n",
    "#  nota inoltre che io non passo i valori di x alla funzione fft()\n",
    "#  In questo modo i k delle fondamentali della fft sono interi ed equivalenti al numero di giri fatti\n",
    "#  se ho una serie temporale in valori 1,2,3,4,...,N\n",
    "#\n",
    "###\n",
    "\n",
    "par(mfrow = c(1, 2))            # questo per visualizzare 1 riga 2 colonne \n",
    "options(repr.plot.width=10, repr.plot.height=3) # larghezza canvas immagine 12inch altezza 6 <======================\n",
    "\n",
    "L        <- 20\n",
    "N        <- 10000\n",
    "x <- seq (0, L, length= N) # length.out = length\n",
    "y1 <- sin(3*(2*pi/L)*x)  #+ sin((2*pi/L)*x)\n",
    "y2 <- sin(6*(2*pi/L)*x)\n",
    "y3 <- sin(9*(2*pi/L)*x) \n",
    "#y=y1+0.5*x+0.05*x**2\n",
    "err <- rnorm(200)\n",
    "err <- err /5\n",
    "y <- 7.0*y1+2.0*y2+3.0*y3 + 0.5*x +0.05*x**2 #+err\n",
    "#plot(x,y1, type='l',col='blue', ylim=c(-2,2))\n",
    "#lines(x,y2, type='l')\n",
    "plot(x,y, type='l')\n",
    "fourier    <- fft(y)\n",
    "am         <- Mod(fourier)    # ampiezza (complessa) delle frequenza, ne faccio il modulo\n",
    "#am\n",
    "freqVector <- 0:(length(am)-1)\n",
    "df         <- data.frame(frequenza=freqVector, ampiezza=am)\n",
    "#plot(df, xlim=c(0,length(freqVector)), type='p')\n",
    "plot(df, xlim=c(0,20), type='p')"
   ]
  },
  {
   "cell_type": "markdown",
   "metadata": {},
   "source": [
    "Nel caso sotto si ha il seguente scenario. Una funzione f: [0:N]->R (dove posso decidere quanto sia grande N).\n",
    "Ogni punto corrisponde ad 1 ora, e quindi 24 punti sono un giorno.\n",
    "Quando faccio la fft() ottengo i valori associati a vari k. Per esempio k=1 implica 1 ciclo (di lunghezza N), k=30 sono 30 cicli (di lunghezza N/30).\n",
    "\n",
    "All'interno di questo intervallo a che k corrisponde una lunghezza d'onda associata a 24?\n",
    "Devo semplicemente trovare quanti cili ci sono in N punti. Dato che ogni ciclo sono 24: N/24.\n",
    "Mi aspetto quindi che la trasformata di Fourier abbia un picco per k = N/24.\n",
    "Se voglio che sull'asse delle ascisse della fft questo corrisponda ad 1 devo semplicemente prendere\n",
    "gli N punti e dividerli per N/24.\n",
    "\n",
    "\n",
    "k e' un numero legato al numero di cicli, e viene messo in ordine come risultato della fft:\n",
    "* k=1    1 ciclo, l'onda associata ha una lunghezza L   (N)\n",
    "* k=2    2 cicli, l'onda associata ha una lunghezza L/2 (N/2)\n",
    "* k=3    3 cicli, l'onda associata ha una lunghezza L/3 (N/3)\n",
    "...\n",
    "* k=?    ? cicli, ma conosco che l'onda associata e' lunga 24, quindi ci sono N/24 cicli!!!   \n",
    "Nel caso del secondo esempio qui sotto la lunghezza totale dell'intervallo e' uguale al numero di punti N.\n",
    "\n",
    "Noi vogliamo sapere a quale k corrispondono le funzioni che hanno dei cicli di 24 ore \n",
    "(periodo do una giornata per vedere se a quel k c'e' un picco).\n",
    "\n",
    "Ricordandoci che N e' la lunghezza di 1 ciclo, allora il numero di cicli associati ad una lunghezza 24 e' N/24. \n",
    "\n",
    "Quindi il k=N/24 e' quello associato ad un giorno.\n",
    "\n",
    "A questo punto se voglio che quel k sia uguale a 1 (giorno) basta che prendo i punti e li divido per N/24, e quel k deve avere una ampiezza elevata.\n"
   ]
  },
  {
   "cell_type": "code",
   "execution_count": 17,
   "metadata": {
    "collapsed": false
   },
   "outputs": [
    {
     "data": {
      "image/png": "[encoded data removed]",
      "text/plain": [
       "plot without title"
      ]
     },
     "metadata": {},
     "output_type": "display_data"
    }
   ],
   "source": [
    "par(mfrow = c(1, 2)) \n",
    "options(repr.plot.width=10, repr.plot.height=3) \n",
    "diff <-read.table('fort.45') #  leggo il file dei dati\n",
    "intervallo=7200\n",
    "f0=24                              # grandezza di un ciclo\n",
    "fondamentale = intervallo/f0       # numero di cicli nell'intervallo considerato\n",
    "#serie <- (diff$V3/diff$V4)\n",
    "#serie <- serie[24:7200]\n",
    "serie <- (diff$V3- diff$V4)/diff$V4\n",
    "serie <- serie [1:intervallo]\n",
    "fourier <- fft(serie)\n",
    "am <- Mod(fourier)\n",
    "freqVector <- 0:(length(am)-1)\n",
    "df <- data.frame(\"frequenza in unita' di f0\"= freqVector/fondamentale  , ampiezza=am)  # divido per la fondamentale\n",
    "plot(freqVector, serie, type='l', xlim=c(0,intervallo/10)); abline(h=0, lty=3)\n",
    "plot(df, xlim=c(0,10),type ='l'); abline(v=1, lty=3)\n"
   ]
  }
 ],
 "metadata": {
  "kernelspec": {
   "display_name": "R",
   "language": "R",
   "name": "ir"
  },
  "language_info": {
   "codemirror_mode": "r",
   "file_extension": ".r",
   "mimetype": "text/x-r-source",
   "name": "R",
   "pygments_lexer": "r",
   "version": "3.3.2"
  }
 },
 "nbformat": 4,
 "nbformat_minor": 0
}
